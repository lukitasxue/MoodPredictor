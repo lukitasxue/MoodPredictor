{
 "cells": [
  {
   "cell_type": "code",
   "execution_count": 46,
   "id": "c1b757c2",
   "metadata": {},
   "outputs": [],
   "source": [
    "import pandas as pd\n",
    "import numpy as np"
   ]
  },
  {
   "cell_type": "code",
   "execution_count": 47,
   "id": "6609755b",
   "metadata": {},
   "outputs": [],
   "source": [
    "df = pd.read_csv(\"mood_data.csv\")\n",
    "feature_cols = [\n",
    "    'sleep_hours', 'stress_level', 'exercise_minutes',\n",
    "    'nutrition_quality', 'social_minutes', 'water_liters', 'caffeine_cups'\n",
    "]\n",
    "target_col = 'mood_score'\n",
    "\n",
    "X = df[feature_cols].values   # shape (n_samples, n_features)\n",
    "y = df[target_col].values     # shape (n_samples,)"
   ]
  },
  {
   "cell_type": "markdown",
   "id": "38f058b1",
   "metadata": {},
   "source": [
    "y = m * x + b\n",
    "\n",
    "to \n",
    "\n",
    "y = w₁·x₁ + w₂·x₂ + ... + wₙ·xₙ + b\n"
   ]
  },
  {
   "cell_type": "code",
   "execution_count": 48,
   "id": "d6afbd2f",
   "metadata": {},
   "outputs": [],
   "source": [
    "class MultVarLinearRegressionModel:\n",
    "    def __init__(self):\n",
    "        self.weights = None # holds weights w1,w2,w3,wn\n",
    "        self.bias = 0       # Intercept term (b)\n",
    "\n",
    "\n",
    "    # This uses matrix math (called the Normal Equation) to find the best weights.\n",
    "    def fit(self, X, y): \n",
    "        \"\"\"\n",
    "        Fit the model using the Normal Equation:\n",
    "        w = (X^T X)^-1 X^T y\n",
    "        \"\"\"\n",
    "        ones = np.ones((X.shape[0], 1))        # Column of 1s to simulate bias term\n",
    "        X_b = np.hstack([ones, X])             # Augmented X with bias term\n",
    "        X_transpose = X_b.T\n",
    "\n",
    "        self.theta = np.linalg.inv(X_transpose @ X_b) @ X_transpose @ y\n",
    "\n",
    "        self.bias = self.theta[0]              # First value = intercept\n",
    "        self.weights = self.theta[1:]          # Rest = weights for each feature\n",
    "\n",
    "    def predict(self, X):\n",
    "        \"\"\"\n",
    "        Predict using:\n",
    "        y_pred = X * w + b\n",
    "        \"\"\"\n",
    "        return X @ self.weights + self.bias \n",
    "        # No longer loop manually, instead, this uses NumPy to predict in bulk using matrix multiplication.\n",
    "\n",
    "\n",
    "    def mean_squared_error(self, y_true, y_pred):\n",
    "        return np.mean((y_true - y_pred) ** 2)\n",
    "\n"
   ]
  },
  {
   "cell_type": "markdown",
   "id": "6fb697b6",
   "metadata": {},
   "source": [
    "### Bias and Ones Matrix (for Matrix Regression)\n",
    "\n",
    "**bias** = shifts the entire prediction up or down.\n",
    "\n",
    "We want to create a ones matrix.\n",
    "\n",
    "Here, I'm simulating 2 sample rows with 7 features.\n",
    "\n",
    "In this case, `X_test.shape[0]` creates 1 bias for each row,  \n",
    "generating a matrix with 2 rows and 1 column of ones.\n",
    "\n",
    "---\n",
    "\n",
    "#### Why do this?\n",
    "\n",
    "Because the bias/intercept term **b** in a regression model isn't multiplied by a feature it's just added at the end:\n",
    "\n",
    "y = w1x1 + w1x2 + ... + 2nxn + b\n",
    "\n",
    "To represent this using matrix multiplication, we trick the math by turning **b** into a weight of 1s:\n",
    "\n",
    "y = θ0*1 + θ1x1 + ... + θnxn\n",
    "\n",
    "So basically:\n",
    "\n",
    "so basically θ0 = b\n"
   ]
  },
  {
   "cell_type": "code",
   "execution_count": 49,
   "id": "8e3a32db",
   "metadata": {},
   "outputs": [
    {
     "name": "stdout",
     "output_type": "stream",
     "text": [
      "[[1.]\n",
      " [1.]]\n"
     ]
    }
   ],
   "source": [
    "X_test = np.array([[7, 3, 30, 8, 60, 2, 1],\n",
    "                   [6, 5, 20, 7, 50, 1.5, 2]])\n",
    "y_test = np.array([8, 7])\n",
    "one_m_test = np.ones((X_test.shape[0], 1)) # shape 2,1\n",
    "print(f\"{one_m_test}\")\n"
   ]
  },
  {
   "cell_type": "markdown",
   "id": "7b9c737c",
   "metadata": {},
   "source": [
    "Combine ones array and then transpose it"
   ]
  },
  {
   "cell_type": "code",
   "execution_count": 50,
   "id": "bcf173c0",
   "metadata": {},
   "outputs": [
    {
     "name": "stdout",
     "output_type": "stream",
     "text": [
      "[[ 1.   7.   3.  30.   8.  60.   2.   1. ]\n",
      " [ 1.   6.   5.  20.   7.  50.   1.5  2. ]]\n",
      "(2, 8)\n"
     ]
    }
   ],
   "source": [
    "X_b_test = np.hstack([one_m_test, X_test])    \n",
    "\n",
    "print(f\"{X_b_test}\")\n",
    "print(f\"{X_b_test.shape}\")"
   ]
  },
  {
   "cell_type": "code",
   "execution_count": 51,
   "id": "5a863f84",
   "metadata": {},
   "outputs": [
    {
     "name": "stdout",
     "output_type": "stream",
     "text": [
      "[[ 1.   1. ]\n",
      " [ 7.   6. ]\n",
      " [ 3.   5. ]\n",
      " [30.  20. ]\n",
      " [ 8.   7. ]\n",
      " [60.  50. ]\n",
      " [ 2.   1.5]\n",
      " [ 1.   2. ]]\n",
      "\n",
      "(8, 2)\n"
     ]
    }
   ],
   "source": [
    "X_b_transposed = X_b_test.T\n",
    "print(f\"{X_b_transposed}\")\n",
    "print(f\"\\n{X_b_transposed.shape}\")"
   ]
  },
  {
   "cell_type": "markdown",
   "id": "6b1043be",
   "metadata": {},
   "source": [
    "@ is for matrix multiplication\n",
    "\n",
    "its the same as np.dot() but more cleaner for this case\n",
    "\n",
    "nwo that we have everything prepared, then we can do normal equation \n",
    "\n",
    "Xt * X = Xt @ X\n",
    "\n",
    "(Xt @ X)^-1 = np.linalg.inv(Xt @ X)\n",
    "\n",
    "only square matrices can be inverted\n",
    "\n",
    "then we multiply all of this with y which are our outputs\n"
   ]
  },
  {
   "cell_type": "code",
   "execution_count": 52,
   "id": "8c4bcf76",
   "metadata": {},
   "outputs": [],
   "source": [
    "theta_test = (X_b_transposed @ X_b_test) @ X_b_transposed @ y_test"
   ]
  },
  {
   "cell_type": "markdown",
   "id": "8195a651",
   "metadata": {},
   "source": [
    "resulting in theta, holding all the learned values, [bias, w1, ..., wn]\n",
    "\n",
    "These values control:\n",
    "\n",
    "Example if the mode learns w_sleep = 0.6 and w_stress = - 0.8 then:\n",
    "- Increasing sleep by 1 hour increases mood by 0.6\n",
    "- increasing stress by 1 unit decreases mood by 0.8\n",
    "\n",
    "so mood = b + w1x1 + w2x2 + ... + wnwn"
   ]
  },
  {
   "cell_type": "code",
   "execution_count": 53,
   "id": "c07a2b0b",
   "metadata": {},
   "outputs": [
    {
     "name": "stdout",
     "output_type": "stream",
     "text": [
      "Bias: 113929.75\n",
      "Weights: [ 746635.5    443534.75  2909165.     860565.25  6327057.5    202423.125\n",
      "  164802.5  ]\n"
     ]
    }
   ],
   "source": [
    "bias_test = theta_test[0]  # First value = intercept\n",
    "weights_test = theta_test[1:]  # Rest = weights for each feature\n",
    "print(f\"Bias: {bias_test}\")\n",
    "print(f\"Weights: {weights_test}\")"
   ]
  },
  {
   "cell_type": "markdown",
   "id": "c29843c5",
   "metadata": {},
   "source": [
    "# Training model"
   ]
  },
  {
   "cell_type": "code",
   "execution_count": 54,
   "id": "cfa2e977",
   "metadata": {},
   "outputs": [],
   "source": [
    "df = pd.read_csv(\"mood_data.csv\")\n",
    "feature_cols = [\n",
    "    'sleep_hours', 'stress_level', 'exercise_minutes',\n",
    "    'nutrition_quality', 'social_minutes', 'water_liters', 'caffeine_cups'\n",
    "]\n",
    "target_col = 'mood_score'\n",
    "\n",
    "X = df[feature_cols].values   # shape (n_samples, n_features)\n",
    "y = df[target_col].values     # shape (n_samples,)"
   ]
  },
  {
   "cell_type": "code",
   "execution_count": 55,
   "id": "0bb9f761",
   "metadata": {},
   "outputs": [
    {
     "name": "stdout",
     "output_type": "stream",
     "text": [
      "Bias: 1.0258069480228795\n",
      "Weights: [ 0.46671372 -0.57156481 -0.00405049  0.45024843  0.00071675  0.23054032\n",
      " -0.14547289]\n"
     ]
    }
   ],
   "source": [
    "model = MultVarLinearRegressionModel()\n",
    "model.fit(X, y)\n",
    "\n",
    "\n",
    "# y_predicted = x1*w1 + x2*w2 + x3*w3 + ... + xn*wn + b \n",
    "\n",
    "print(f\"Bias: {model.bias}\")\n",
    "print(f\"Weights: {model.weights}\")\n"
   ]
  },
  {
   "cell_type": "code",
   "execution_count": 56,
   "id": "ae8701ea",
   "metadata": {},
   "outputs": [
    {
     "name": "stdout",
     "output_type": "stream",
     "text": [
      "Predictions: [ 4.78195539  6.63945969  6.08953086  4.67873358  5.77032478  4.46546179\n",
      "  1.20270522  4.78776936  4.94498099  5.73711148  3.72742663  5.74789121\n",
      "  4.57195588  4.82488842  3.15470776  4.69358508  5.89050165  6.50573941\n",
      "  5.55936975  6.54497113  4.96454153  2.58067025  0.80981021  6.93383163\n",
      "  3.8254753   3.04364708  2.05600717  4.11333501  3.8768465   2.02024099\n",
      "  3.22149382  4.4904194   3.14426194  6.36773534  2.41661469  6.02629042\n",
      "  4.09098894  6.16114946  3.26275144  6.33632048  6.63129474  4.58023228\n",
      "  2.54128279  5.4697083   5.60949568  6.72909154  4.35212273  4.62711384\n",
      "  5.57110858  6.59387291  5.24640643  5.27600947  6.02337726  5.43262736\n",
      "  5.11175782  1.34576175  6.06394157  2.93411267  2.59567668  6.02805657\n",
      "  5.54983137  4.38533658  5.16170369  3.98596839 -0.10133126  5.38637171\n",
      " -0.27563329  2.94077924  1.17303664  0.40955327  3.1456929   1.71226447\n",
      "  6.41172114  4.39854617  6.84510886  0.0199222   4.52201066  4.09704247\n",
      "  1.35335631  3.36026454  4.39683562  2.98036644  5.97685295  1.75368094\n",
      "  1.15022372  6.06439681  4.78368633  3.85361403  4.12428503  1.44787329\n",
      "  0.87871602  4.70388364  3.36708401  3.51164962  3.11608437  3.55592575\n",
      "  2.93070153  4.44805727  6.36140275  4.48858121]\n"
     ]
    }
   ],
   "source": [
    "y_pred = model.predict(X)\n",
    "print(f\"Predictions: {y_pred}\")"
   ]
  },
  {
   "cell_type": "code",
   "execution_count": 57,
   "id": "e4886c33",
   "metadata": {},
   "outputs": [
    {
     "name": "stdout",
     "output_type": "stream",
     "text": [
      "Mean Squared Error: 0.8381127202046004\n",
      "Root Mean Squared Error: 0.9154849644885493\n"
     ]
    }
   ],
   "source": [
    "mse = model.mean_squared_error(y, y_pred)\n",
    "print(f\"Mean Squared Error: {mse}\")\n",
    "\n",
    "rmse = np.sqrt(mse)\n",
    "print(f\"Root Mean Squared Error: {rmse}\")"
   ]
  },
  {
   "cell_type": "markdown",
   "id": "2e5949eb",
   "metadata": {},
   "source": [
    "Mse of 0.83 is not bad, but I want a better result, like ~0.5\n",
    "\n",
    "Root mean squared error give us the average error in natural units, 1 or less "
   ]
  },
  {
   "cell_type": "markdown",
   "id": "25d5dac1",
   "metadata": {},
   "source": [
    "# drop caffeine col"
   ]
  },
  {
   "cell_type": "code",
   "execution_count": 58,
   "id": "4b045fc8",
   "metadata": {},
   "outputs": [
    {
     "name": "stdout",
     "output_type": "stream",
     "text": [
      "(100, 6)\n",
      "(100,)\n"
     ]
    }
   ],
   "source": [
    "feature_cols = [\n",
    "    'sleep_hours', 'stress_level', 'exercise_minutes',\n",
    "    'nutrition_quality', 'social_minutes', 'water_liters'\n",
    "]\n",
    "target_col = 'mood_score'\n",
    "\n",
    "X = df[feature_cols].values   # shape (n_samples, n_features)\n",
    "y = df[target_col].values     # shape (n_samples,)\n",
    "\n",
    "print(f\"{X.shape}\")\n",
    "print(f\"{y.shape}\")"
   ]
  },
  {
   "cell_type": "code",
   "execution_count": 59,
   "id": "12ed29fb",
   "metadata": {},
   "outputs": [
    {
     "name": "stdout",
     "output_type": "stream",
     "text": [
      "Bias: 0.5774492862682414\n",
      "Weights: [ 0.47737341 -0.55894882 -0.00173356  0.46069368  0.00120421  0.23124395]\n",
      "Predictions: [ 4.8980639   6.48624366  6.26535351  4.64765729  5.73044863  4.43167224\n",
      "  1.27321758  4.91304798  5.15841922  5.62479855  3.72194319  5.57219846\n",
      "  4.46411748  4.81618693  3.08605256  4.86113111  5.73072917  6.6029688\n",
      "  5.5765703   6.68094706  5.09250024  2.56624618  0.97573892  6.85937739\n",
      "  3.61909595  3.11050412  2.26682684  4.28735398  3.97928589  2.35106678\n",
      "  3.02550424  4.50381888  3.27340118  6.16676304  2.38998644  6.1802742\n",
      "  4.07526685  6.04333023  3.21924318  6.17127336  6.56911134  4.57658414\n",
      "  2.36902019  5.43183128  5.57949856  6.87727907  4.33150774  4.55299816\n",
      "  5.75748273  6.45946631  5.30539612  5.32184151  5.97690458  5.26552817\n",
      "  4.93675992  1.27718995  6.17218589  2.91839609  2.36653851  6.12524965\n",
      "  5.7124816   4.24300437  5.03593298  3.98847588 -0.09485614  5.37951539\n",
      " -0.09533577  2.73416288  1.18122149  0.41032859  2.94561728  1.46943215\n",
      "  6.54148917  4.38338311  6.87615415  0.01594216  4.6317194   4.09164607\n",
      "  1.3753794   3.49762986  4.41354217  2.91786424  5.94860671  1.79438153\n",
      "  1.15225686  6.23680984  4.78722796  3.96278128  4.01080011  1.79066993\n",
      "  1.04650976  4.85705404  3.18487146  3.48037969  2.94578458  3.48445317\n",
      "  2.73088925  4.30442302  6.34521422  4.61276073]\n"
     ]
    }
   ],
   "source": [
    "model.fit(X, y)\n",
    "\n",
    "print(f\"Bias: {model.bias}\")\n",
    "print(f\"Weights: {model.weights}\")\n",
    "\n",
    "\n",
    "y_pred = model.predict(X)\n",
    "print(f\"Predictions: {y_pred}\")"
   ]
  },
  {
   "cell_type": "code",
   "execution_count": 60,
   "id": "b6bbaab3",
   "metadata": {},
   "outputs": [
    {
     "name": "stdout",
     "output_type": "stream",
     "text": [
      "Mean Squared Error: 0.8546821914717009\n",
      "Root Mean Squared Error: 0.9244902333024946\n"
     ]
    }
   ],
   "source": [
    "mse = model.mean_squared_error(y, y_pred)\n",
    "print(f\"Mean Squared Error: {mse}\")\n",
    "\n",
    "rmse = np.sqrt(mse)\n",
    "print(f\"Root Mean Squared Error: {rmse}\")"
   ]
  },
  {
   "cell_type": "markdown",
   "id": "06100823",
   "metadata": {},
   "source": [
    "looping through each value to drop it and test prediction"
   ]
  },
  {
   "cell_type": "code",
   "execution_count": 62,
   "id": "3354f699",
   "metadata": {},
   "outputs": [
    {
     "name": "stdout",
     "output_type": "stream",
     "text": [
      "Without sleep_hours MSE: 0.9810\n",
      "Without sleep_hours RMSE: 0.9904\n",
      "\n",
      "Without stress_level MSE: 1.0360\n",
      "Without stress_level RMSE: 1.0178\n",
      "\n",
      "Without exercise_minutes MSE: 0.8549\n",
      "Without exercise_minutes RMSE: 0.9246\n",
      "\n",
      "Without nutrition_quality MSE: 1.0562\n",
      "Without nutrition_quality RMSE: 1.0277\n",
      "\n",
      "Without social_minutes MSE: 0.8568\n",
      "Without social_minutes RMSE: 0.9256\n",
      "\n",
      "Without water_liters MSE: 0.8597\n",
      "Without water_liters RMSE: 0.9272\n",
      "\n"
     ]
    }
   ],
   "source": [
    "for col in feature_cols:\n",
    "    temporal_features = feature_cols.copy()\n",
    "    temporal_features.remove(col)\n",
    "    X_temp = df[temporal_features].values  # shape (n_samples, n_features)\n",
    "\n",
    "    model.fit(X_temp, y)\n",
    "    predictions = model.predict(X_temp)\n",
    "    mse = model.mean_squared_error(y, predictions)\n",
    "    rmse = np.sqrt(mse)\n",
    "    print(f\"Without {col} MSE: {mse:.4f}\")\n",
    "    print(f\"Without {col} RMSE: {rmse:.4f}\\n\")\n"
   ]
  },
  {
   "cell_type": "code",
   "execution_count": 65,
   "id": "594638b6",
   "metadata": {},
   "outputs": [
    {
     "data": {
      "image/png": "[encoded data removed]",
      "text/plain": [
       "<Figure size 800x500 with 1 Axes>"
      ]
     },
     "metadata": {},
     "output_type": "display_data"
    }
   ],
   "source": [
    "import matplotlib.pyplot as plt\n",
    "plt.figure(figsize=(8,5))\n",
    "plt.scatter(y, y_pred, color='blue', alpha=0.7)\n",
    "plt.plot([y.min(), y.max()], [y.min(), y.max()], 'r--', lw=2)  # Diagonal line\n",
    "plt.title(\"Actual vs Predicted Mood Scores\")\n",
    "plt.xlabel(\"Actual Mood Score\")\n",
    "plt.ylabel(\"Predicted Mood Score\")\n",
    "plt.grid(True)\n",
    "plt.show()"
   ]
  },
  {
   "cell_type": "markdown",
   "id": "0d534082",
   "metadata": {},
   "source": [
    "Re train the model with 7 variables and "
   ]
  },
  {
   "cell_type": "code",
   "execution_count": 69,
   "id": "63581a00",
   "metadata": {},
   "outputs": [
    {
     "name": "stdout",
     "output_type": "stream",
     "text": [
      "Bias: 1.0258069480228795\n",
      "Weights: [ 0.46671372 -0.57156481 -0.00405049  0.45024843  0.00071675  0.23054032\n",
      " -0.14547289]\n",
      "Predictions: [ 4.78195539  6.63945969  6.08953086  4.67873358  5.77032478  4.46546179\n",
      "  1.20270522  4.78776936  4.94498099  5.73711148  3.72742663  5.74789121\n",
      "  4.57195588  4.82488842  3.15470776  4.69358508  5.89050165  6.50573941\n",
      "  5.55936975  6.54497113  4.96454153  2.58067025  0.80981021  6.93383163\n",
      "  3.8254753   3.04364708  2.05600717  4.11333501  3.8768465   2.02024099\n",
      "  3.22149382  4.4904194   3.14426194  6.36773534  2.41661469  6.02629042\n",
      "  4.09098894  6.16114946  3.26275144  6.33632048  6.63129474  4.58023228\n",
      "  2.54128279  5.4697083   5.60949568  6.72909154  4.35212273  4.62711384\n",
      "  5.57110858  6.59387291  5.24640643  5.27600947  6.02337726  5.43262736\n",
      "  5.11175782  1.34576175  6.06394157  2.93411267  2.59567668  6.02805657\n",
      "  5.54983137  4.38533658  5.16170369  3.98596839 -0.10133126  5.38637171\n",
      " -0.27563329  2.94077924  1.17303664  0.40955327  3.1456929   1.71226447\n",
      "  6.41172114  4.39854617  6.84510886  0.0199222   4.52201066  4.09704247\n",
      "  1.35335631  3.36026454  4.39683562  2.98036644  5.97685295  1.75368094\n",
      "  1.15022372  6.06439681  4.78368633  3.85361403  4.12428503  1.44787329\n",
      "  0.87871602  4.70388364  3.36708401  3.51164962  3.11608437  3.55592575\n",
      "  2.93070153  4.44805727  6.36140275  4.48858121]\n",
      "Mean Squared Error: 0.8381127202046004\n",
      "Root Mean Squared Error: 0.9154849644885493\n"
     ]
    }
   ],
   "source": [
    "feature_cols = [\n",
    "    'sleep_hours', 'stress_level', 'exercise_minutes',\n",
    "    'nutrition_quality', 'social_minutes', 'water_liters', 'caffeine_cups'\n",
    "]\n",
    "target_col = 'mood_score'\n",
    "\n",
    "X = df[feature_cols].values   # shape (n_samples, n_features)\n",
    "y = df[target_col].values     # shape (n_samples,)\n",
    "\n",
    "model.fit(X, y)\n",
    "print(f\"Bias: {model.bias}\")\n",
    "print(f\"Weights: {model.weights}\")\n",
    "\n",
    "y_pred = model.predict(X)\n",
    "print(f\"Predictions: {y_pred}\")\n",
    "\n",
    "mse = model.mean_squared_error(y, y_pred)\n",
    "print(f\"Mean Squared Error: {mse}\")\n",
    "\n",
    "rmse = np.sqrt(mse)\n",
    "print(f\"Root Mean Squared Error: {rmse}\")"
   ]
  },
  {
   "cell_type": "code",
   "execution_count": 71,
   "id": "a542a582",
   "metadata": {},
   "outputs": [
    {
     "name": "stdout",
     "output_type": "stream",
     "text": [
      "Predicted Mood Score: 5.43\n"
     ]
    }
   ],
   "source": [
    "input_data = {\n",
    "    'sleep_hours': [6.5],\n",
    "    'stress_level': [2],\n",
    "    'exercise_minutes': [20],\n",
    "    'nutrition_quality': [5],\n",
    "    'social_minutes': [45],\n",
    "    'water_liters': [2],\n",
    "    'caffeine_cups': [1]\n",
    "}\n",
    "input_df = pd.DataFrame(input_data)\n",
    "\n",
    "predicted_mood = model.predict(input_df[feature_cols].values)\n",
    "print(f\"Predicted Mood Score: {predicted_mood[0]:.2f}\")"
   ]
  },
  {
   "cell_type": "code",
   "execution_count": null,
   "id": "05f193bf",
   "metadata": {},
   "outputs": [],
   "source": []
  }
 ],
 "metadata": {
  "kernelspec": {
   "display_name": "Python 3",
   "language": "python",
   "name": "python3"
  },
  "language_info": {
   "codemirror_mode": {
    "name": "ipython",
    "version": 3
   },
   "file_extension": ".py",
   "mimetype": "text/x-python",
   "name": "python",
   "nbconvert_exporter": "python",
   "pygments_lexer": "ipython3",
   "version": "3.13.2"
  }
 },
 "nbformat": 4,
 "nbformat_minor": 5
}
